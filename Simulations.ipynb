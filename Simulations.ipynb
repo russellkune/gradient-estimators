{
 "cells": [
  {
   "cell_type": "code",
   "execution_count": 1,
   "id": "5e294bdd",
   "metadata": {},
   "outputs": [],
   "source": [
    "import numpy as np \n",
    "from tqdm import tqdm\n",
    "import matplotlib.pyplot as plt"
   ]
  },
  {
   "cell_type": "markdown",
   "id": "de769a01",
   "metadata": {},
   "source": [
    "To start we just compare DisARM and Bitflip + joint strategy. We need a model with K realistically large, say 100. We can explore multiple functions f\n",
    "\n",
    "\n",
    "$$f_1(z; t) = \\sum_{j=1}^k (z_j - t_j)^2 $$\n",
    "\n",
    "$$f_2(z; t) = (z-t)^tC(z-t) $$\n",
    "Bitflip-1\n",
    "- sample random $j \\in {1, \\dots, K}$\n",
    "- sample $z \\sim p$\n",
    "- $g_j = K*[(1- t_j)^2 - (t_j)^2]$\n",
    "- $g_{-j} = 0$\n",
    "\n",
    "Bitflip-k\n",
    "- sample $z \\sim p$\n",
    "- $g_j = [(1- t_j)^2 - (t_j)^2]$\n",
    "\n",
    "DisARM\n",
    "- sample uniforms $U_j$\n",
    "- $z_j = 1\\{U_j < \\theta_j \\}$, $\\tilde{z}_j = 1\\{1 - U_j < \\theta_j \\}$\n",
    "- $g_j \\leftarrow \\frac{1}{2} ( f(z; t) - f(\\tilde{z}; t))\\frac{1}{\\theta_1 1\\{\\theta_1 < 0.5\\} + (1-\\theta_1) 1\\{\\theta_1 \\geq 0.5\\}} \\mathbf{1}_{z_j \\neq \\tilde{z}_j} (-1)^{\\tilde{z}_j}$\n",
    "\n",
    "\n",
    "Bitflip-opt(1)\n",
    "- if $ 2K\\geq 1/min(\\theta_j, 1- \\theta_j) $, run DisARM o.w. run bitflip "
   ]
  },
  {
   "cell_type": "code",
   "execution_count": 60,
   "id": "8e0d5c40",
   "metadata": {},
   "outputs": [],
   "source": [
    "K = 20\n",
    "t_ = 0.49\n",
    "t = np.array(K*[t_])"
   ]
  },
  {
   "cell_type": "code",
   "execution_count": 61,
   "id": "9578be9d",
   "metadata": {},
   "outputs": [],
   "source": [
    "def f(z,t):\n",
    "    return ((z-t)**2).sum()"
   ]
  },
  {
   "cell_type": "code",
   "execution_count": 62,
   "id": "0957c47c",
   "metadata": {},
   "outputs": [],
   "source": [
    "def sampleDisARM(theta,t):\n",
    "    u = np.random.uniform(size= K)\n",
    "    #z = np.array([1.0 if u[j] < theta[j] else 0.0 for j in range(K)])\n",
    "    #ztilde = np.array([1.0 if 1.0 - u[j] < theta[j] else 0.0 for j in range(K)])\n",
    "    z = (u < theta).astype(int)\n",
    "    ztilde = (1.0 - u < theta).astype(int)\n",
    "    diff = f(z,t) - f(ztilde,t)\n",
    "    \n",
    "    g = np.zeros(K)\n",
    "    g[theta < 0.5] = 0.5*diff*((-1)**(ztilde[theta<0.5]))*(1/theta[theta<0.5])\n",
    "    g[theta >= 0.5] = 0.5*diff*((-1)**(ztilde[theta>=0.5]))*(1/(1.0 - theta[theta>=0.5]))\n",
    "    g[ztilde == z] = 0 \n",
    "    \n",
    "    return g\n",
    "    \n",
    "def sampleBitFlip_1(theta, t):\n",
    "    q = np.random.choice(list(range(K)))\n",
    "    z1 = np.random.binomial(n=1, p = theta[q])\n",
    "    \n",
    "    g = np.zeros(K)\n",
    "    g[q] = K*((1-t[q])**2 - t[q]**2)\n",
    "    return g\n",
    "\n",
    "def sampleBitFlip_k(theta, t):\n",
    "    g = ((1-t)**2 - t**2)\n",
    "    return g\n",
    "\n",
    "\n",
    "def sampleBitFlip_opt(theta,t):\n",
    "    g_1 = sampleBitFlip_1(theta,t) #not comparing wall clock so this is ok\n",
    "    g_2 = sampleDisARM(theta,t)\n",
    "    use_bitflip = 1/np.min(np.array([theta,1-theta]), axis = 0) >= 2*K\n",
    "    #print(use_bitflip.mean())\n",
    "    g = np.zeros(K)\n",
    "    g[use_bitflip] = g_1[use_bitflip]\n",
    "    g[~use_bitflip] = g_2[~use_bitflip]\n",
    "    return g\n",
    "\n",
    "\n",
    "def sampleReinforce_loo(theta,t):\n",
    "    z1 = np.random.binomial(n=1, p = theta)\n",
    "    z2 = np.random.binomial(n=1, p = theta)\n",
    "    f1 = f(z1,t)\n",
    "    f2 = f(z2,t)\n",
    "    return 0.5 * ((f1 - f2) * (z1 - theta)+ (f2 - f1) * (z2 - theta)) *(1/theta)*(1/(1-theta))\n",
    "\n",
    "def loss(theta, t):\n",
    "    return (((1-t)**2) * theta + (t**2) * (1-theta)).sum()"
   ]
  },
  {
   "cell_type": "code",
   "execution_count": 63,
   "id": "5fbb5994",
   "metadata": {},
   "outputs": [],
   "source": [
    "def sigma(x):\n",
    "    return np.exp(x)/(1+np.exp(x))\n",
    "\n",
    "def train(grad_func,start, t, n_epoch = 1000, learning_rate = 5.0):\n",
    "    \n",
    "    losses = []\n",
    "    thetas = []\n",
    "    vars_ = []\n",
    "    phi = start\n",
    "    \n",
    "    for i in tqdm(range(n_epoch)):\n",
    "        theta = sigma(phi)\n",
    "        g = grad_func(theta, t)\n",
    "        \n",
    "        #compute variances:\n",
    "        g_ss = []\n",
    "        for j in range(5000):\n",
    "            g_s = grad_func(theta, t)\n",
    "            g_ss.append(g_s)\n",
    "        g_ss = np.array(g_ss)\n",
    "        vars_.append(np.var(g_ss, axis = 0).mean())\n",
    "        \n",
    "            \n",
    "        phi = phi - learning_rate*g*sigma(phi)*sigma(-1.0*phi)\n",
    "        \n",
    "        thetas.append(theta)\n",
    "        losses.append(loss(theta,t))\n",
    "    return thetas,losses, np.array(vars_)\n",
    "\n",
    "def train2(grad_func,start, t, n_epoch = 1000, learning_rate = 0.1):\n",
    "    \n",
    "    losses = []\n",
    "    thetas = []\n",
    "    vars_ = []\n",
    "    theta = start\n",
    "    \n",
    "    for i in tqdm(range(n_epoch)):\n",
    "        theta[theta < 0] = 10e-12\n",
    "        theta[theta > 1] = 1 - 10e-12\n",
    "        g = grad_func(theta, t)\n",
    "        \n",
    "        #compute variances:\n",
    "        g_ss = []\n",
    "        for j in range(5000):\n",
    "            g_s = grad_func(theta, t)\n",
    "            g_ss.append(g_s)\n",
    "        g_ss = np.array(g_ss)\n",
    "        vars_.append(np.var(g_ss, axis = 0).mean())\n",
    "        \n",
    "            \n",
    "        theta = theta - learning_rate*g#*sigma(phi)*sigma(-1.0*phi)\n",
    "        \n",
    "        theta[theta < 0] = 10e-12\n",
    "        theta[theta > 1] = 1 - 10e-12\n",
    "        thetas.append(theta)\n",
    "        losses.append(loss(theta,t))\n",
    "    return thetas,losses, np.array(vars_)"
   ]
  },
  {
   "cell_type": "code",
   "execution_count": 29,
   "id": "06e4ed69",
   "metadata": {},
   "outputs": [
    {
     "name": "stderr",
     "output_type": "stream",
     "text": [
      "100%|██████████| 1000/1000 [09:43<00:00,  1.71it/s]\n"
     ]
    }
   ],
   "source": [
    "thetas_o, losses_o, vars_o = train2(sampleBitFlip_opt, start = phi, t=t,learning_rate = 9.0)"
   ]
  },
  {
   "cell_type": "code",
   "execution_count": 64,
   "id": "3d092715",
   "metadata": {},
   "outputs": [
    {
     "name": "stderr",
     "output_type": "stream",
     "text": [
      "100%|██████████| 1000/1000 [08:20<00:00,  2.00it/s]\n",
      "100%|██████████| 1000/1000 [03:55<00:00,  4.25it/s]\n",
      "100%|██████████| 1000/1000 [02:52<00:00,  5.79it/s]\n",
      "100%|██████████| 1000/1000 [09:27<00:00,  1.76it/s]\n"
     ]
    }
   ],
   "source": [
    "phi = sigma(np.random.normal(size = K))\n",
    "#init = 1/(2*K)\n",
    "#phi = np.array([np.log(init/(1-init))]*K)\n",
    "\n",
    "thetas_r, losses_r, vars_r = train2(sampleReinforce_loo, start = phi, t = t, learning_rate =0.8)\n",
    "thetas_d, losses_d, vars_d = train2(sampleDisARM, start = phi, t = t, learning_rate = 0.8)\n",
    "thetas_b, losses_b, vars_b = train2(sampleBitFlip_1, start = phi, t = t, learning_rate = 0.8)\n",
    "thetas_o, losses_o, vars_o = train2(sampleBitFlip_opt, start = phi, t=t,learning_rate = 0.8)\n",
    "\n"
   ]
  },
  {
   "cell_type": "code",
   "execution_count": 68,
   "id": "f1b60306",
   "metadata": {},
   "outputs": [
    {
     "data": {
      "image/png": "[encoded data removed]",
      "text/plain": [
       "<Figure size 864x576 with 1 Axes>"
      ]
     },
     "metadata": {
      "needs_background": "light"
     },
     "output_type": "display_data"
    }
   ],
   "source": [
    "plt.figure(figsize = (12,8))\n",
    "plt.plot(losses_r, label = \"Reinforce_loo\")\n",
    "plt.plot(losses_d, label = \"DisARM\")\n",
    "plt.plot(losses_b, label = \"BitFlip\")\n",
    "plt.plot(losses_o, label = \"UGC\")\n",
    "plt.ylabel(\"loss\")\n",
    "plt.xlabel(\"steps\")\n",
    "plt.axhline(K*(t_**2), c = \"black\", linestyle =\"--\", label = \"opt\")\n",
    "plt.legend()\n",
    "plt.grid()\n",
    "plt.savefig(\"P1loss_49.png\", dpi = 300)"
   ]
  },
  {
   "cell_type": "code",
   "execution_count": 67,
   "id": "6e0211f5",
   "metadata": {},
   "outputs": [
    {
     "data": {
      "image/png": "[encoded data removed]",
      "text/plain": [
       "<Figure size 864x576 with 1 Axes>"
      ]
     },
     "metadata": {
      "needs_background": "light"
     },
     "output_type": "display_data"
    }
   ],
   "source": [
    "plt.figure(figsize = (12,8))\n",
    "plt.plot(vars_r, label = \"Reinforce_loo\")\n",
    "plt.plot(vars_d, label = \"DisARM\")\n",
    "plt.plot(vars_b, label = \"BitFlip\")\n",
    "plt.plot(vars_o, label = \"UGC\")\n",
    "plt.ylabel(\"variances\")\n",
    "plt.xlabel(\"steps\")\n",
    "plt.legend()\n",
    "plt.grid()\n",
    "plt.savefig(\"P1var_49.png\", dpi = 300)"
   ]
  },
  {
   "cell_type": "code",
   "execution_count": 14,
   "id": "6455e275",
   "metadata": {},
   "outputs": [],
   "source": [
    "N = 50\n",
    "vars_r[vars_r > 10000] = 10000\n",
    "vars_d[vars_d > 10000] = 10000\n",
    "vars_r_new = np.convolve(vars_r, np.ones(N)/N, mode='valid')\n",
    "vars_d_new = np.convolve(vars_d, np.ones(N)/N, mode='valid')"
   ]
  },
  {
   "cell_type": "code",
   "execution_count": 56,
   "id": "c3543ce7",
   "metadata": {},
   "outputs": [],
   "source": [
    "def save_list(filepath,lst):\n",
    "    with open(filepath, \"w\") as f:\n",
    "        for s in lst:\n",
    "            f.write(str(s) +\"\\n\")"
   ]
  },
  {
   "cell_type": "code",
   "execution_count": 57,
   "id": "2f137a05",
   "metadata": {},
   "outputs": [],
   "source": [
    "\"\"\"\n",
    "save_list(\"thetas_d_l1000.txt\",thetas_d)\n",
    "save_list(\"losses_d_l1000.txt\",losses_d)\n",
    "save_list(\"vars_d_l1000.txt\",vars_d)\n",
    "\n",
    "save_list(\"thetas_b_l1000.txt\",thetas_b)\n",
    "save_list(\"losses_b_l1000.txt\",losses_b)\n",
    "save_list(\"vars_b_l1000.txt\",vars_b)\n",
    "\n",
    "save_list(\"thetas_o_l1000.txt\",thetas_o)\n",
    "save_list(\"losses_o_l1000.txt\",losses_o)\n",
    "save_list(\"vars_o_l1000.txt\",vars_o)\n",
    " \"\"\""
   ]
  },
  {
   "cell_type": "code",
   "execution_count": null,
   "id": "cee7c697",
   "metadata": {},
   "outputs": [],
   "source": []
  }
 ],
 "metadata": {
  "kernelspec": {
   "display_name": "Python 3 (ipykernel)",
   "language": "python",
   "name": "python3"
  },
  "language_info": {
   "codemirror_mode": {
    "name": "ipython",
    "version": 3
   },
   "file_extension": ".py",
   "mimetype": "text/x-python",
   "name": "python",
   "nbconvert_exporter": "python",
   "pygments_lexer": "ipython3",
   "version": "3.7.6"
  }
 },
 "nbformat": 4,
 "nbformat_minor": 5
}
